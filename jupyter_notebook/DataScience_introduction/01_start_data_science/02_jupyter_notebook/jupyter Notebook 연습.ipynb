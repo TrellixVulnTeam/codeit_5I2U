{
 "cells": [
  {
   "cell_type": "markdown",
   "metadata": {},
   "source": [
    "# 데이터 사이언스 입문\n",
    "## jupyter notebook\n",
    "### 11 jupyter Notebook 에서 값 출력하기"
   ]
  },
  {
   "cell_type": "markdown",
   "metadata": {},
   "source": [
    "#### 변수 그대로 출력하기"
   ]
  },
  {
   "cell_type": "code",
   "execution_count": 1,
   "metadata": {},
   "outputs": [
    {
     "data": {
      "text/plain": [
       "17"
      ]
     },
     "execution_count": 1,
     "metadata": {},
     "output_type": "execute_result"
    }
   ],
   "source": [
    "x = 17\n",
    "x"
   ]
  },
  {
   "cell_type": "markdown",
   "metadata": {},
   "source": [
    "#### `print`문을 이용한 여러줄출력"
   ]
  },
  {
   "cell_type": "code",
   "execution_count": 2,
   "metadata": {},
   "outputs": [
    {
     "name": "stdout",
     "output_type": "stream",
     "text": [
      "7\n",
      "17\n",
      "24\n"
     ]
    }
   ],
   "source": [
    "print(2 + 5)\n",
    "print(x)\n",
    "print(3 * 8)"
   ]
  },
  {
   "cell_type": "markdown",
   "metadata": {},
   "source": [
    "#### jupyter notebook 의 여러줄 출력"
   ]
  },
  {
   "cell_type": "code",
   "execution_count": 3,
   "metadata": {},
   "outputs": [
    {
     "data": {
      "text/plain": [
       "12"
      ]
     },
     "execution_count": 3,
     "metadata": {},
     "output_type": "execute_result"
    }
   ],
   "source": [
    "2 + 5\n",
    "x\n",
    "3 * 4"
   ]
  },
  {
   "cell_type": "markdown",
   "metadata": {},
   "source": [
    "마지막 줄만 보여줌"
   ]
  },
  {
   "cell_type": "markdown",
   "metadata": {},
   "source": [
    "#### `print`문과 jupyter notebook 의 혼합 여러줄 출력의 결과"
   ]
  },
  {
   "cell_type": "code",
   "execution_count": 4,
   "metadata": {
    "scrolled": true
   },
   "outputs": [
    {
     "name": "stdout",
     "output_type": "stream",
     "text": [
      "7\n",
      "17\n",
      "12\n"
     ]
    },
    {
     "data": {
      "text/plain": [
       "12"
      ]
     },
     "execution_count": 4,
     "metadata": {},
     "output_type": "execute_result"
    }
   ],
   "source": [
    "2 + 5\n",
    "x\n",
    "print(2 + 5)\n",
    "print(x)\n",
    "print(3 * 4)\n",
    "3 * 4"
   ]
  },
  {
   "cell_type": "markdown",
   "metadata": {},
   "source": [
    " 위에 두줄의 결과는 출력이 안됨"
   ]
  },
  {
   "cell_type": "markdown",
   "metadata": {},
   "source": [
    "#### `print` 문과 jupyter notebook 의 출력 차이점"
   ]
  },
  {
   "cell_type": "code",
   "execution_count": 11,
   "metadata": {},
   "outputs": [],
   "source": [
    "import pandas as pd\n",
    "\n",
    "df = [\n",
    "    [\"\",\"name\", \"position\", \"born\", \"number\", \"nationality\"],\n",
    "    [0, \"roberto firmino\", \"fw\",1991,\"no.9\",\"브라질\"],\n",
    "    [1, \"Sadio Mane\", \"fw\", 1992, \"no.10\",\"세네갈\"],\n",
    "    [2, \"minjung\",\"fw\",1996,\"no. 1\",\"한국\"],\n",
    "    [3, \"uygyo\",\"df\",1993,\"no. 2\",\"한국\"],\n",
    "    [4, \"ㅁㄹㄴㅁ\",\"gk\",1997,\"no. 3\",\"afsfa\"],\n",
    "    [5, \"asfsda\",\"mf\",1998,\"no.4\",\"asdfas\"]\n",
    "]"
   ]
  },
  {
   "cell_type": "markdown",
   "metadata": {},
   "source": [
    "df = pd.read_cav('data/liverpool.cav')"
   ]
  },
  {
   "cell_type": "code",
   "execution_count": 12,
   "metadata": {
    "scrolled": true
   },
   "outputs": [
    {
     "name": "stdout",
     "output_type": "stream",
     "text": [
      "[['', 'name', 'position', 'born', 'number', 'nationality'], [0, 'roberto firmino', 'fw', 1991, 'no.9', '브라질'], [1, 'Sadio Mane', 'fw', 1992, 'no.10', '세네갈'], [2, 'minjung', 'fw', 1996, 'no. 1', '한국'], [3, 'uygyo', 'df', 1993, 'no. 2', '한국'], [4, 'ㅁㄹㄴㅁ', 'gk', 1997, 'no. 3', 'afsfa'], [5, 'asfsda', 'mf', 1998, 'no.4', 'asdfas']]\n"
     ]
    }
   ],
   "source": [
    "print(df)"
   ]
  },
  {
   "cell_type": "code",
   "execution_count": 13,
   "metadata": {},
   "outputs": [
    {
     "data": {
      "text/plain": [
       "[['', 'name', 'position', 'born', 'number', 'nationality'],\n",
       " [0, 'roberto firmino', 'fw', 1991, 'no.9', '브라질'],\n",
       " [1, 'Sadio Mane', 'fw', 1992, 'no.10', '세네갈'],\n",
       " [2, 'minjung', 'fw', 1996, 'no. 1', '한국'],\n",
       " [3, 'uygyo', 'df', 1993, 'no. 2', '한국'],\n",
       " [4, 'ㅁㄹㄴㅁ', 'gk', 1997, 'no. 3', 'afsfa'],\n",
       " [5, 'asfsda', 'mf', 1998, 'no.4', 'asdfas']]"
      ]
     },
     "execution_count": 13,
     "metadata": {},
     "output_type": "execute_result"
    }
   ],
   "source": [
    "df"
   ]
  },
  {
   "cell_type": "markdown",
   "metadata": {},
   "source": [
    "파일이 안받아져서 안보이지만 실제로는 그냥 출력하는게 더 이쁨"
   ]
  }
 ],
 "metadata": {
  "kernelspec": {
   "display_name": "Python 3",
   "language": "python",
   "name": "python3"
  },
  "language_info": {
   "codemirror_mode": {
    "name": "ipython",
    "version": 3
   },
   "file_extension": ".py",
   "mimetype": "text/x-python",
   "name": "python",
   "nbconvert_exporter": "python",
   "pygments_lexer": "ipython3",
   "version": "3.8.5"
  }
 },
 "nbformat": 4,
 "nbformat_minor": 4
}
