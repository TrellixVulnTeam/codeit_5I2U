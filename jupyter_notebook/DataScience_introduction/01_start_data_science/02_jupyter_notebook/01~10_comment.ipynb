{
 "cells": [
  {
   "cell_type": "markdown",
   "metadata": {},
   "source": [
    "# 데이터 사이언스 입문\n",
    "## jupyter notebook 1~11"
   ]
  },
  {
   "cell_type": "code",
   "execution_count": null,
   "metadata": {},
   "outputs": [],
   "source": [
    "x = 5\n",
    "print(x)"
   ]
  },
  {
   "cell_type": "code",
   "execution_count": null,
   "metadata": {},
   "outputs": [],
   "source": [
    "print(x)"
   ]
  },
  {
   "cell_type": "code",
   "execution_count": null,
   "metadata": {},
   "outputs": [],
   "source": [
    "print(y)"
   ]
  },
  {
   "cell_type": "markdown",
   "metadata": {},
   "source": [
    "# 가장큰 제목\n",
    "## 두번째 크 제목\n",
    "### 3번쨰 큰 제목\n",
    "#### 4번쨰 큰 제목\n",
    "##### 5번쨰 큰 제목\n",
    "###### 6번째 큰 제목\n",
    "####### 이건음슴\n",
    "\n",
    "그냥쓰기"
   ]
  },
  {
   "cell_type": "markdown",
   "metadata": {},
   "source": [
    "글을 **두껍게**쓸 수도 있고, *날려* 쓸 수도 있습니다."
   ]
  },
  {
   "cell_type": "markdown",
   "metadata": {},
   "source": [
    "이렇게 리스트를 쓸 수도 있죠!\n",
    "1. list\n",
    "2. ㅣㅑㄴㅅ\n",
    "3. list"
   ]
  },
  {
   "cell_type": "markdown",
   "metadata": {},
   "source": [
    "숫자 대신 *을 사용하면, 번호가 없는 목록을 만들 수도 있습니다.\n",
    "* 번호 ㄴㄴ\n",
    "* 번호 ㄴㄴ\n",
    "* 번호 ㄴㄴ"
   ]
  },
  {
   "cell_type": "markdown",
   "metadata": {},
   "source": [
    "아주길다린 글에서 줄바꿈을 하기위해선 어떻게해야하나?\n",
    "아주길다린 글에서 줄바꿈을 하기위해선 어떻게해야하나?\n",
    "아주길다린 글에서 줄바꿈을 하기위해선 어떻게해야하나?"
   ]
  },
  {
   "cell_type": "markdown",
   "metadata": {},
   "source": [
    "문장 끝에 space키를 두번 누르면 된다.\n",
    "\n",
    "문장 끝에 space키를 두번 누르면 된다.\n",
    "\n",
    "문장 끝에 space키를 두번 누르면 된다.\n",
    "\n"
   ]
  },
  {
   "cell_type": "markdown",
   "metadata": {},
   "source": [
    "문단 바꾸는 효과는 엔터를 두번 눌면 된다\n",
    "\n",
    "문단 바꾸는 효과는 엔터를 두번느르면 된다.\n",
    "\n",
    "문단 바꾸는 효과는 엔터를 두번 누르며 ㄴ된다.\n",
    "\n"
   ]
  },
  {
   "cell_type": "markdown",
   "metadata": {},
   "source": [
    "# 문자 강조를 배워봅시다 *과 _를 사용하면 글자를 꾸밀 수 있습니다  \n",
    "\n",
    "이탈릭체는 *표나* 나 _언더바_로.  \n",
    "\n",
    "볼드체는 **별표 두개**나 __언더바 두 개__로.  \n",
    "\n",
    "**별표와 _언더바_**를 섞어서.\n",
    "\n",
    "취소선은 ~~물결~~로."
   ]
  },
  {
   "cell_type": "markdown",
   "metadata": {},
   "source": [
    "# 링크를 걸수도 있슴\n",
    "\n",
    "코딩 강의는 역시 [코드잇](https://www.codeit.kr)이죠!"
   ]
  },
  {
   "cell_type": "markdown",
   "metadata": {},
   "source": [
    "# 이미지를 추가할 수도 있음\n",
    "\n",
    "![코드잇](https://www.codeit.kr/static/images/brand/logo_original.png) "
   ]
  },
  {
   "cell_type": "markdown",
   "metadata": {},
   "source": [
    "# 코드블록\n",
    "\n",
    "```python\n",
    "print('hello world!')\n",
    "for i in range(10):\n",
    "    print(i)\n",
    "```"
   ]
  },
  {
   "cell_type": "markdown",
   "metadata": {},
   "source": [
    "# 인라인 코드\n",
    "``로 코드를 감싸면 \"인라인 코드\"를 쓸 수 있습니다\n",
    "\n",
    "값을 출력하고 싶으면 `print` 함수를 사용하면 되겠죠?"
   ]
  },
  {
   "cell_type": "markdown",
   "metadata": {},
   "source": [
    "# 구분선\n",
    "\n",
    "구분선 위\n",
    "---\n",
    "구분선 아래"
   ]
  },
  {
   "cell_type": "code",
   "execution_count": null,
   "metadata": {},
   "outputs": [],
   "source": []
  }
 ],
 "metadata": {
  "kernelspec": {
   "display_name": "Python 3",
   "language": "python",
   "name": "python3"
  },
  "language_info": {
   "codemirror_mode": {
    "name": "ipython",
    "version": 3
   },
   "file_extension": ".py",
   "mimetype": "text/x-python",
   "name": "python",
   "nbconvert_exporter": "python",
   "pygments_lexer": "ipython3",
   "version": "3.8.5"
  }
 },
 "nbformat": 4,
 "nbformat_minor": 4
}
