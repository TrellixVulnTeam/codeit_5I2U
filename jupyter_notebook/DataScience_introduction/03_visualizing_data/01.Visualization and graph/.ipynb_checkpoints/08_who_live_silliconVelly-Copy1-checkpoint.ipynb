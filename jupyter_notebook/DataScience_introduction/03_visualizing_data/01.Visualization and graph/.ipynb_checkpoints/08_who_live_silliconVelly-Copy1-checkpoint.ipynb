{
 "cells": [
  {
   "cell_type": "code",
   "execution_count": 117,
   "metadata": {},
   "outputs": [
    {
     "data": {
      "text/html": [
       "<div>\n",
       "<style scoped>\n",
       "    .dataframe tbody tr th:only-of-type {\n",
       "        vertical-align: middle;\n",
       "    }\n",
       "\n",
       "    .dataframe tbody tr th {\n",
       "        vertical-align: top;\n",
       "    }\n",
       "\n",
       "    .dataframe thead th {\n",
       "        text-align: right;\n",
       "    }\n",
       "</style>\n",
       "<table border=\"1\" class=\"dataframe\">\n",
       "  <thead>\n",
       "    <tr style=\"text-align: right;\">\n",
       "      <th></th>\n",
       "      <th>company</th>\n",
       "      <th>year</th>\n",
       "      <th>race</th>\n",
       "      <th>gender</th>\n",
       "      <th>job_category</th>\n",
       "      <th>count</th>\n",
       "    </tr>\n",
       "  </thead>\n",
       "  <tbody>\n",
       "    <tr>\n",
       "      <th>333</th>\n",
       "      <td>Adobe</td>\n",
       "      <td>2016</td>\n",
       "      <td>Overall_totals</td>\n",
       "      <td>NaN</td>\n",
       "      <td>Executives</td>\n",
       "      <td>93</td>\n",
       "    </tr>\n",
       "    <tr>\n",
       "      <th>334</th>\n",
       "      <td>Adobe</td>\n",
       "      <td>2016</td>\n",
       "      <td>Overall_totals</td>\n",
       "      <td>NaN</td>\n",
       "      <td>Managers</td>\n",
       "      <td>2448</td>\n",
       "    </tr>\n",
       "    <tr>\n",
       "      <th>335</th>\n",
       "      <td>Adobe</td>\n",
       "      <td>2016</td>\n",
       "      <td>Overall_totals</td>\n",
       "      <td>NaN</td>\n",
       "      <td>Professionals</td>\n",
       "      <td>3028</td>\n",
       "    </tr>\n",
       "    <tr>\n",
       "      <th>337</th>\n",
       "      <td>Adobe</td>\n",
       "      <td>2016</td>\n",
       "      <td>Overall_totals</td>\n",
       "      <td>NaN</td>\n",
       "      <td>Sales workers</td>\n",
       "      <td>1270</td>\n",
       "    </tr>\n",
       "    <tr>\n",
       "      <th>338</th>\n",
       "      <td>Adobe</td>\n",
       "      <td>2016</td>\n",
       "      <td>Overall_totals</td>\n",
       "      <td>NaN</td>\n",
       "      <td>Administrative support</td>\n",
       "      <td>323</td>\n",
       "    </tr>\n",
       "  </tbody>\n",
       "</table>\n",
       "</div>"
      ],
      "text/plain": [
       "    company  year            race gender            job_category  count\n",
       "333   Adobe  2016  Overall_totals    NaN              Executives     93\n",
       "334   Adobe  2016  Overall_totals    NaN                Managers   2448\n",
       "335   Adobe  2016  Overall_totals    NaN           Professionals   3028\n",
       "337   Adobe  2016  Overall_totals    NaN           Sales workers   1270\n",
       "338   Adobe  2016  Overall_totals    NaN  Administrative support    323"
      ]
     },
     "execution_count": 117,
     "metadata": {},
     "output_type": "execute_result"
    }
   ],
   "source": [
    "%matplotlib inline\n",
    "import pandas as pd\n",
    "\n",
    "df = pd.read_csv('data/silicon_valley_details.csv')\n",
    "\n",
    "adoby_bool = df['company'] == 'Adobe'\n",
    "is_Overall_totals = df['race'] == 'Overall_totals'\n",
    "isn_total = df['job_category'] != 'Totals'\n",
    "isn_priv_total = df['job_category'] != 'Previous_totals'\n",
    "\n",
    "is_none_zero = df['count'] > 0\n",
    "is_index_exe = df.index == 'Executives'\n",
    "is_index_man = df.index == 'Managers'\n",
    "is_index_pro = df.index == 'Professionals'\n",
    "is_index_sal = df.index == 'Sales workers'\n",
    "is_index_admin = df.index == 'Administrative support'\n",
    "index_bool = is_index_exe | is_index_man | is_index_pro | is_index_sal | is_index_admin\n",
    "\n",
    "df.loc[adoby_bool&is_Overall_totals&isn_total&isn_priv_total&is_none_zero,]\n",
    "#df.loc[adoby_bool&is_none_zero&index_bool&adoby_bool&is_Overall_totals,'count'].plot(kind='pie',y='job_category')"
   ]
  },
  {
   "cell_type": "code",
   "execution_count": 114,
   "metadata": {},
   "outputs": [
    {
     "data": {
      "text/plain": [
       "array(['Executives', 'Managers', 'Professionals', 'Technicians',\n",
       "       'Sales workers', 'Administrative support', 'Craft workers',\n",
       "       'operatives', 'laborers and helpers', 'Service workers', 'Totals',\n",
       "       'Previous_totals'], dtype=object)"
      ]
     },
     "execution_count": 114,
     "metadata": {},
     "output_type": "execute_result"
    }
   ],
   "source": [
    "df['job_category'].unique()"
   ]
  },
  {
   "cell_type": "code",
   "execution_count": null,
   "metadata": {},
   "outputs": [],
   "source": []
  }
 ],
 "metadata": {
  "kernelspec": {
   "display_name": "Python 3",
   "language": "python",
   "name": "python3"
  },
  "language_info": {
   "codemirror_mode": {
    "name": "ipython",
    "version": 3
   },
   "file_extension": ".py",
   "mimetype": "text/x-python",
   "name": "python",
   "nbconvert_exporter": "python",
   "pygments_lexer": "ipython3",
   "version": "3.8.5"
  }
 },
 "nbformat": 4,
 "nbformat_minor": 4
}
