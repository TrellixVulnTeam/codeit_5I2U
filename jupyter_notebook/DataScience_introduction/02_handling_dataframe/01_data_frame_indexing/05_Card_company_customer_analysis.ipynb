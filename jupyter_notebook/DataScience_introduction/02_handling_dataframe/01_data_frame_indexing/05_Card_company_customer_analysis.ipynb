{
 "cells": [
  {
   "cell_type": "code",
   "execution_count": 147,
   "metadata": {},
   "outputs": [],
   "source": [
    "import pandas as pd\n",
    "import numpy as np\n",
    "\n",
    "samsong_df = pd.read_csv('data/samsong.csv')\n",
    "hyundee_df = pd.read_csv('data/hyundee.csv')\n",
    "h_df = hyundee_df[['요일','문화생활비']]\n",
    "s_df = samsong_df[['요일','문화생활비']]"
   ]
  },
  {
   "cell_type": "code",
   "execution_count": 148,
   "metadata": {},
   "outputs": [
    {
     "data": {
      "text/html": [
       "<div>\n",
       "<style scoped>\n",
       "    .dataframe tbody tr th:only-of-type {\n",
       "        vertical-align: middle;\n",
       "    }\n",
       "\n",
       "    .dataframe tbody tr th {\n",
       "        vertical-align: top;\n",
       "    }\n",
       "\n",
       "    .dataframe thead th {\n",
       "        text-align: right;\n",
       "    }\n",
       "</style>\n",
       "<table border=\"1\" class=\"dataframe\">\n",
       "  <thead>\n",
       "    <tr style=\"text-align: right;\">\n",
       "      <th></th>\n",
       "      <th>day</th>\n",
       "      <th>samsong</th>\n",
       "      <th>hyundee</th>\n",
       "    </tr>\n",
       "  </thead>\n",
       "  <tbody>\n",
       "    <tr>\n",
       "      <th>0</th>\n",
       "      <td>MON</td>\n",
       "      <td>4308</td>\n",
       "      <td>5339</td>\n",
       "    </tr>\n",
       "    <tr>\n",
       "      <th>1</th>\n",
       "      <td>TUE</td>\n",
       "      <td>7644</td>\n",
       "      <td>3524</td>\n",
       "    </tr>\n",
       "    <tr>\n",
       "      <th>2</th>\n",
       "      <td>WED</td>\n",
       "      <td>5674</td>\n",
       "      <td>5364</td>\n",
       "    </tr>\n",
       "    <tr>\n",
       "      <th>3</th>\n",
       "      <td>THU</td>\n",
       "      <td>8621</td>\n",
       "      <td>9942</td>\n",
       "    </tr>\n",
       "    <tr>\n",
       "      <th>4</th>\n",
       "      <td>FRI</td>\n",
       "      <td>23052</td>\n",
       "      <td>33511</td>\n",
       "    </tr>\n",
       "    <tr>\n",
       "      <th>5</th>\n",
       "      <td>SAT</td>\n",
       "      <td>15330</td>\n",
       "      <td>19397</td>\n",
       "    </tr>\n",
       "    <tr>\n",
       "      <th>6</th>\n",
       "      <td>SUN</td>\n",
       "      <td>19030</td>\n",
       "      <td>19925</td>\n",
       "    </tr>\n",
       "  </tbody>\n",
       "</table>\n",
       "</div>"
      ],
      "text/plain": [
       "   day  samsong  hyundee\n",
       "0  MON     4308     5339\n",
       "1  TUE     7644     3524\n",
       "2  WED     5674     5364\n",
       "3  THU     8621     9942\n",
       "4  FRI    23052    33511\n",
       "5  SAT    15330    19397\n",
       "6  SUN    19030    19925"
      ]
     },
     "execution_count": 148,
     "metadata": {},
     "output_type": "execute_result"
    }
   ],
   "source": [
    "two_dimensional_list = []\n",
    "col = s_df.columns\n",
    "ind = s_df.index\n",
    "for i in range(0,len(h_df)):\n",
    "    if h_df.loc[ind[i],col[0]]==s_df.loc[ind[i],col[0]]:\n",
    "        two_dimensional_list.append([h_df.loc[ind[i],col[0]],s_df.loc[ind[i],col[1]],h_df.loc[ind[i],col[1]]])\n",
    "        \n",
    "result = pd.DataFrame(two_dimensional_list,columns = ['day','samsong','hyundee'])\n",
    "result"
   ]
  },
  {
   "cell_type": "code",
   "execution_count": null,
   "metadata": {},
   "outputs": [],
   "source": []
  }
 ],
 "metadata": {
  "kernelspec": {
   "display_name": "Python 3",
   "language": "python",
   "name": "python3"
  },
  "language_info": {
   "codemirror_mode": {
    "name": "ipython",
    "version": 3
   },
   "file_extension": ".py",
   "mimetype": "text/x-python",
   "name": "python",
   "nbconvert_exporter": "python",
   "pygments_lexer": "ipython3",
   "version": "3.8.5"
  }
 },
 "nbformat": 4,
 "nbformat_minor": 4
}
